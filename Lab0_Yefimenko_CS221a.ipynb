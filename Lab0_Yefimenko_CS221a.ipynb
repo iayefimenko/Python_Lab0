{
 "cells": [
  {
   "cell_type": "markdown",
   "id": "fcfa8553-e2cc-460b-bbe5-8460e6882a4e",
   "metadata": {},
   "source": [
    "# Лабораторна робота №0\n",
    "## Основи роботи в середовищі Jupyter Notebook\n",
    "<br /><br/>\n",
    "### Виконав\n",
    "### студентка групи КН-221а\n",
    "### Єфіменко Анастасія Миколаївна\n",
    "### Перевірив\n",
    "### асистент кафедри\n",
    "### Звєрцев Герман Олександрович\n",
    "<br /><br/><br/><br/>\n",
    "## Мета роботи\n",
    "**Ознайомитись з особливістю використання мови Python в середовищі Jupyter Notebook та отримати навички роботи з блокнотом**"
   ]
  },
  {
   "cell_type": "code",
   "execution_count": 1,
   "id": "275e6038-0288-46af-bde8-dce93f0d11c8",
   "metadata": {},
   "outputs": [
    {
     "name": "stdout",
     "output_type": "stream",
     "text": [
      "6\n"
     ]
    }
   ],
   "source": [
    "N = ord(\"A\") % 10 + 1\n",
    "print(N)"
   ]
  },
  {
   "cell_type": "markdown",
   "id": "8ce11042-33ef-47fe-a897-15f708db732f",
   "metadata": {},
   "source": [
    "# Країна: <span style=\"color: red;\">Йорданія</span>\n",
    "\n",
    "## Загальна інформація\n",
    "<div style=\"border: 2px solid red; border-radius: 10px; padding: 15px; background-color: darkred; color: white\">\n",
    "    <p>\n",
    "        Країна з тисячолітньою історією - колиска цивілізації, один з головних культурних центрів на Близькому Сході - активно розвиває свій туристичний потенціал, одна з найстабільніших і безпечних країн Близького Сходу, відома своїми стародавніми пам`ятками, природними заповідниками і морськими курортами\n",
    "    </p>\n",
    "\n",
    "Площа: <span style=\"color: red\">*92 300 км²*</span><br />\n",
    "Населення: <span style=\"color: red\">*6,2 млн*</span>\n",
    "</div>\n",
    "\n",
    "## Найбільші міста\n",
    "| Місто      | Населення   | Зображення  |\n",
    "|:----------:|:-----------:|:-----------:|\n",
    "| Амман      | 1 812 059   | <img src=\"https://i.natgeofe.com/n/4fb1ca51-63cc-4d5d-9ee3-a4a413c0b7c7/cityscape-amman-jordan_16x9.jpg\" alt=\"Amman\" width=\"350\" height=\"100\" /> |\n",
    "| Акаба      | 188 160     | <img src=\"https://cdn.britannica.com/10/148210-050-361EC254/flagpole-flag-Al-Aqabah-Arab-Revolt-Jordan-Gulf.jpg\" alt=\"Akaba\" width=\"350\" height=\"100\" /> |\n",
    "| Петра      | 19 412      | <img src=\"https://cdn.britannica.com/88/189788-050-9B5DB3A4/Al-Dayr-Petra-Jordan.jpg\" alt=\"Petra\" width=\"350\" height=\"100\" /> |\n",
    "\n",
    "## Державний устрій\n",
    "<blockquote>\n",
    "    <p>\n",
    "        &emsp;Йорданія – конституційна монархія, що закріплено у Конституції, прийнятої <span style=\"color: red; text-decoration: underline;\">8 січня 1952 року</span>.\n",
    "    </p>\n",
    "    <p>\n",
    "        &emsp;Виняткова влада зосереджена в руках <span style=\"color: blue; font-style: italic;\">короля</span> та його <span style=\"color: blue; font-style: italic;\">ради міністрів</span>. Король підписує всі закони, його право вето може бути подолано двома третинами голосів обох палат Національної Асамблеї. Він призначає всіх суддів своїми указами, затверджує зміни до Конституції, оголошує війну та командує збройними силами. Рада міністрів, яку очолює <span style=\"color: blue; font-style: italic;\">Прем’єр-міністр</span>, призначається королем, який може зняти з посади окремих міністрів на запит Прем’єр-міністра.\n",
    "    </p>\n",
    "    <p>\n",
    "        &emsp;Конституція передбачає три види судів:\n",
    "        <ul>\n",
    "            <li>цивільні;</li>\n",
    "            <li>релігійні:\n",
    "                <ul>\n",
    "                    <li>шаріатські - для мусульман,</li>\n",
    "                    <li>окремі - для християн;</li>\n",
    "                </ul>\n",
    "            </li>\n",
    "            <li>спеціальні.</li>\n",
    "        </ul>\n",
    "    </p>\n",
    "    <p>\n",
    "        &emsp;Адміністративно, Йорданія розділена на <span style=\"color: green; font-weight: bold;\">12 мухафаз</span>, губернаторів яких призначає король. Вони є єдиними керівниками всіх відділів правління та проектів розвитку на довірених ним територіях.\n",
    "    Королівські збройні сили також перебувають під контролем короля\n",
    "    </p>\n",
    "</blockquote>\n",
    "\n",
    "## ТОП-3 визначних місця та пам'ятки культури\n",
    "<ol style=\"font-size: 18px; font-weight: bold;\">\n",
    "    <li>Ваді-Рам\n",
    "        <p style=\"font-size: 14px; font-weight: normal;\">\n",
    "            Пустеля, непідвладна часу. Вітер та сонце створили унікальні пейзажі. Крім того, це те місце, де, якщо вірити легендам, хрестили Ісуса (річка Йордан). Тут знаходяться мінеральні джерела, де відпочивав цар Іудеї Ірод Великий і печера, в якій ховався Лот зі своїми доньками після падіння Содома та Гоморр\n",
    "        </p>\n",
    "        <p style=\"text-align: center;\"><img src=\"wadi-rum.jpg\" alt=\"Wadi-Rum\" width=\"600\" height=\"275\" style=\"border: 2px solid darkred; border-radius: 10px;\" /></p>\n",
    "    </li>\n",
    "    <li>Джераш\n",
    "        <p style=\"font-size: 14px; font-weight: normal;\">\n",
    "           Римське місто, розташоване в долині, оточене лісистими пагорбами та долинами. Сьогодні воно вважається одним з найбільш зберегшихся провінційних римських міст у світі\n",
    "        </p>\n",
    "        <p style=\"text-align: center;\"><img src=\"jerash.jpg\" alt=\"Jerash\" width=\"600\" height=\"275\" style=\"border: 2px solid darkred; border-radius: 10px;\"/></p>\n",
    "    </li>\n",
    "    <li>Мадаба\n",
    "        <p style=\"font-size: 14px; font-weight: normal;\">\n",
    "            «Місто мозаїк», започатковане близько 4,5 тис. років тому. Починаючи з VI ст. н.е. у місті зводилися християнські культові споруди. У наші дні він є одним із центрів християнства на Близькому Сході. Тут знаходяться візантійські та омейядські мозаїки, найпопулярніша з яких – карта Єрусалиму та Святої Землі 4 століття. Понад два мільйони кольорових фрагментів із місцевого каменю зображують пагорби та долини до самої дельти Нілу.\n",
    "        </p>\n",
    "        <p style=\"text-align: center;\"><img src=\"madaba.jpg\" alt=\"Madaba\" width=\"600\" height=\"275\" style=\"border: 2px solid darkred; border-radius: 10px;\"/></p>\n",
    "    </li>\n",
    "</ol>\n",
    "\n",
    "[Перегляньте більше](https://tripmydream.ua/iordania/sights)\n",
    "\n",
    "## Унікальність природи\n",
    "![Зображення природи](https://mapsandstories.com/wp-content/uploads/2021/06/Jordan.jpg)\n",
    "\n",
    "## Прапор Йорданії"
   ]
  },
  {
   "cell_type": "code",
   "execution_count": 2,
   "id": "aa678193-bc65-4e4a-ae98-aa1cb0b94e13",
   "metadata": {},
   "outputs": [
    {
     "data": {
      "text/html": [
       "<svg xmlns=\"http://www.w3.org/2000/svg\" width=\"300\" height=\"200\" viewBox=\"0 0 1500 1000\">\n",
       "  <rect width=\"1500\" height=\"1000\" fill=\"#007A3D\" />\n",
       "  <rect width=\"1500\" height=\"650\" fill=\"#FFFFFF\" />\n",
       "  <rect width=\"1500\" height=\"333.333\" fill=\"#000000\" />\n",
       "  <polygon points=\"0,0 750,500 0,1000\" fill=\"#C8102E\" />\n",
       "  <svg width=\"100px\" height=\"100px\" x=\"225\" y=\"425\" viewBox=\"0 0 512.00 512.00\" xmlns=\"http://www.w3.org/2000/svg\" fill=\"#000000\" stroke=\"#ffffff\" stroke-width=\"0.00512\">\n",
       "    <g id=\"SVGRepo_bgCarrier\" stroke-width=\"0\"></g><g id=\"SVGRepo_tracerCarrier\" stroke-linecap=\"round\" stroke-linejoin=\"round\" stroke=\"#CCCCCC\" stroke-width=\"19.456\"></g><g id=\"SVGRepo_iconCarrier\"><path fill=\"#ffffff\" d=\"M256 22.017l-69.427 102.007-123.038-9.32L100 232.584l-84 90.384 114.898 44.987 18.292 122.028L256 428.2l106.81 61.783 18.292-122.028L496 322.968l-84-90.385 36.465-117.88-123.038 9.32z\"></path></g>\n",
       "  </svg>\n",
       "</svg>\n"
      ],
      "text/plain": [
       "<IPython.core.display.HTML object>"
      ]
     },
     "metadata": {},
     "output_type": "display_data"
    }
   ],
   "source": [
    "%%HTML\n",
    "<svg xmlns=\"http://www.w3.org/2000/svg\" width=\"300\" height=\"200\" viewBox=\"0 0 1500 1000\">\n",
    "  <rect width=\"1500\" height=\"1000\" fill=\"#007A3D\" />\n",
    "  <rect width=\"1500\" height=\"650\" fill=\"#FFFFFF\" />\n",
    "  <rect width=\"1500\" height=\"333.333\" fill=\"#000000\" />\n",
    "  <polygon points=\"0,0 750,500 0,1000\" fill=\"#C8102E\" />\n",
    "  <svg width=\"100px\" height=\"100px\" x=\"225\" y=\"425\" viewBox=\"0 0 512.00 512.00\" xmlns=\"http://www.w3.org/2000/svg\" fill=\"#000000\" stroke=\"#ffffff\" stroke-width=\"0.00512\">\n",
    "    <g id=\"SVGRepo_bgCarrier\" stroke-width=\"0\"></g><g id=\"SVGRepo_tracerCarrier\" stroke-linecap=\"round\" stroke-linejoin=\"round\" stroke=\"#CCCCCC\" stroke-width=\"19.456\"></g><g id=\"SVGRepo_iconCarrier\"><path fill=\"#ffffff\" d=\"M256 22.017l-69.427 102.007-123.038-9.32L100 232.584l-84 90.384 114.898 44.987 18.292 122.028L256 428.2l106.81 61.783 18.292-122.028L496 322.968l-84-90.385 36.465-117.88-123.038 9.32z\"></path></g>\n",
    "  </svg>\n",
    "</svg>"
   ]
  },
  {
   "cell_type": "code",
   "execution_count": 3,
   "id": "e3cf95dc-ff8f-4cac-ab18-5162f442cab1",
   "metadata": {},
   "outputs": [],
   "source": [
    "def is_prime(n):\n",
    "    if n <= 1:\n",
    "        return False\n",
    "    if n <= 3:\n",
    "        return True\n",
    "    if n % 2 == 0 or n % 3 == 0:\n",
    "        return False\n",
    "    i = 5\n",
    "    while i * i <= n:\n",
    "        if n % i == 0 or n % (i + 2) == 0:\n",
    "            return False\n",
    "        i += 6\n",
    "    return True\n",
    "\n",
    "def find_primes_in_range(a, b):\n",
    "    primes = []\n",
    "    for num in range(max(a, 2), b + 1):\n",
    "        if is_prime(num):\n",
    "            primes.append(num)\n",
    "    return primes\n",
    "\n",
    "def get_integer_input(prompt):\n",
    "    while True:\n",
    "        try:\n",
    "            value = int(input(prompt))\n",
    "            return value\n",
    "        except ValueError:\n",
    "            print(\"Введено нечислове значення. Спробуйте ще раз.\")\n",
    "\n",
    "def task_6():\n",
    "    a = get_integer_input(\"Введіть перше число (a): \")\n",
    "    b = get_integer_input(\"Введіть друге число (b): \")\n",
    "    \n",
    "    if a > b:\n",
    "        print(\"Перше число повинно бути менше або рівним другому числу.\")\n",
    "        return\n",
    "    \n",
    "    prime_numbers = find_primes_in_range(a, b)\n",
    "    print(\"Прості числа на відрізку [{}, {}]: {}\".format(a, b, prime_numbers))"
   ]
  },
  {
   "cell_type": "code",
   "execution_count": 6,
   "id": "2971ed3e-42b6-4d00-99c9-8e7aeb092aa9",
   "metadata": {},
   "outputs": [
    {
     "name": "stdin",
     "output_type": "stream",
     "text": [
      "Введіть перше число (a):  0\n",
      "Введіть друге число (b):  fff\n"
     ]
    },
    {
     "name": "stdout",
     "output_type": "stream",
     "text": [
      "Введено нечислове значення. Спробуйте ще раз.\n"
     ]
    },
    {
     "name": "stdin",
     "output_type": "stream",
     "text": [
      "Введіть друге число (b):  10\n"
     ]
    },
    {
     "name": "stdout",
     "output_type": "stream",
     "text": [
      "Прості числа на відрізку [0, 10]: [2, 3, 5, 7]\n"
     ]
    }
   ],
   "source": [
    "task_6()"
   ]
  },
  {
   "cell_type": "code",
   "execution_count": 7,
   "id": "3feda3a2-85d9-4156-a1ee-8a0158149c73",
   "metadata": {},
   "outputs": [
    {
     "name": "stdin",
     "output_type": "stream",
     "text": [
      "Введіть перше число (a):  10\n",
      "Введіть друге число (b):  10\n"
     ]
    },
    {
     "name": "stdout",
     "output_type": "stream",
     "text": [
      "Прості числа на відрізку [10, 10]: []\n"
     ]
    }
   ],
   "source": [
    "task_6()"
   ]
  },
  {
   "cell_type": "code",
   "execution_count": 8,
   "id": "45fef24a-84fa-4e0c-9838-dbd1c82521cf",
   "metadata": {},
   "outputs": [
    {
     "name": "stdin",
     "output_type": "stream",
     "text": [
      "Введіть перше число (a):  7\n",
      "Введіть друге число (b):  2\n"
     ]
    },
    {
     "name": "stdout",
     "output_type": "stream",
     "text": [
      "Перше число повинно бути менше або рівним другому числу.\n"
     ]
    }
   ],
   "source": [
    "task_6()"
   ]
  },
  {
   "cell_type": "code",
   "execution_count": 9,
   "id": "cc6d0c87-07af-46f6-8efa-d5243f709473",
   "metadata": {},
   "outputs": [
    {
     "name": "stdin",
     "output_type": "stream",
     "text": [
      "Введіть перше число (a):  6\n",
      "Введіть друге число (b):  24\n"
     ]
    },
    {
     "name": "stdout",
     "output_type": "stream",
     "text": [
      "Прості числа на відрізку [6, 24]: [7, 11, 13, 17, 19, 23]\n"
     ]
    }
   ],
   "source": [
    "task_6()"
   ]
  },
  {
   "cell_type": "code",
   "execution_count": 10,
   "id": "6dea448b-bc65-4a45-80a0-df1793078db2",
   "metadata": {},
   "outputs": [
    {
     "name": "stdin",
     "output_type": "stream",
     "text": [
      "Введіть перше число (a):  3\n",
      "Введіть друге число (b):  15\n"
     ]
    },
    {
     "name": "stdout",
     "output_type": "stream",
     "text": [
      "Прості числа на відрізку [3, 15]: [3, 5, 7, 11, 13]\n"
     ]
    }
   ],
   "source": [
    "task_6()"
   ]
  },
  {
   "cell_type": "markdown",
   "id": "d22dac81-ed54-461e-87ce-8153b2b60650",
   "metadata": {},
   "source": [
    "## Діаграма активності завантаження отриманого файлу на GitHub та застосування nbviewer\n",
    "\n",
    "<p style=\"text-align: center;\"><img src=\"activity_diagram.jpg\" alt=\"Activity diagram\" /></p>\n",
    "\n",
    "<p>\n",
    "     Після завантаження роботи на Github, було реалізовано можливість поділитися блокнотом через nbviewer <a href=\"https://nbviewer.org/github/iayefimenko/Python_Lab0/blob/main/Lab0_Yefimenko_CS221a.ipynb\">за посиланням</a>.\n",
    "</p>"
   ]
  },
  {
   "cell_type": "markdown",
   "id": "7833a8fb-4f48-46e7-8076-7e165484849d",
   "metadata": {},
   "source": [
    "## Висновки\n",
    "**Під час виконання лабораторної роботи №0 було ознайомлено з особливістю використання мови Python в середовищі Jupyter Notebook \n",
    "та отримано корисні навички роботи з блокнотом. У ході виконання завдань, було вперше розглянуто мову Markdown і певні HTML теги. Отримані знання з їх використання ніколи не будуть зайвими і безусмнівно знадобляться у подальшому програмуванні.\n",
    "Цікавим став досвід використання nbviewer для надання доступу до блокноту з усім його вмістом без необіхдності завантаження \n",
    "програми Jupiter Notebook. Врешті-решт, здобуті цінні навички однозначно стануть в нагоді в більш ускладненій роботі на Python.**"
   ]
  }
 ],
 "metadata": {
  "kernelspec": {
   "display_name": "Python 3 (ipykernel)",
   "language": "python",
   "name": "python3"
  },
  "language_info": {
   "codemirror_mode": {
    "name": "ipython",
    "version": 3
   },
   "file_extension": ".py",
   "mimetype": "text/x-python",
   "name": "python",
   "nbconvert_exporter": "python",
   "pygments_lexer": "ipython3",
   "version": "3.8.10"
  }
 },
 "nbformat": 4,
 "nbformat_minor": 5
}
